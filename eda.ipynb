{
 "cells": [
  {
   "cell_type": "code",
   "execution_count": 1,
   "metadata": {},
   "outputs": [
    {
     "ename": "IndexError",
     "evalue": "list index out of range",
     "output_type": "error",
     "traceback": [
      "\u001b[0;31m---------------------------------------------------------------------------\u001b[0m",
      "\u001b[0;31mIndexError\u001b[0m                                Traceback (most recent call last)",
      "Cell \u001b[0;32mIn[1], line 18\u001b[0m\n\u001b[1;32m     16\u001b[0m \u001b[38;5;66;03m# 이미지 해상도 및 손상 유형 분석\u001b[39;00m\n\u001b[1;32m     17\u001b[0m image_paths \u001b[38;5;241m=\u001b[39m glob(\u001b[38;5;124m'\u001b[39m\u001b[38;5;124m./db/train_gt/*.png\u001b[39m\u001b[38;5;124m'\u001b[39m)\n\u001b[0;32m---> 18\u001b[0m sample_image \u001b[38;5;241m=\u001b[39m image_paths[\u001b[38;5;241m0\u001b[39m]\n\u001b[1;32m     19\u001b[0m load_and_visualize_image(sample_image, \u001b[38;5;124m\"\u001b[39m\u001b[38;5;124mSample Image\u001b[39m\u001b[38;5;124m\"\u001b[39m)\n\u001b[1;32m     21\u001b[0m \u001b[38;5;66;03m# 이미지 손상 유형 시각화\u001b[39;00m\n",
      "\u001b[0;31mIndexError\u001b[0m: list index out of range"
     ]
    }
   ],
   "source": [
    "import os\n",
    "import matplotlib.pyplot as plt\n",
    "import cv2\n",
    "from glob import glob\n",
    "\n",
    "# 이미지 로드 및 시각화 함수\n",
    "def load_and_visualize_image(image_path, title=\"Image\"):\n",
    "    image = cv2.imread(image_path)\n",
    "    image = cv2.cvtColor(image, cv2.COLOR_BGR2RGB)\n",
    "    plt.figure(figsize=(10, 8))\n",
    "    plt.imshow(image)\n",
    "    plt.title(title)\n",
    "    plt.axis('off')\n",
    "    plt.show()\n",
    "\n",
    "# 이미지 해상도 및 손상 유형 분석\n",
    "image_paths = glob('./db/train_gt/*.png')\n",
    "sample_image = image_paths[0]\n",
    "load_and_visualize_image(sample_image, \"Sample Image\")\n",
    "\n",
    "# 이미지 손상 유형 시각화\n",
    "damaged_image_paths = glob('./db/train_input/*.png')\n",
    "sample_damaged_image = damaged_image_paths[0]\n",
    "load_and_visualize_image(sample_damaged_image, \"Sample Damaged Image\")"
   ]
  }
 ],
 "metadata": {
  "kernelspec": {
   "display_name": "base",
   "language": "python",
   "name": "python3"
  },
  "language_info": {
   "codemirror_mode": {
    "name": "ipython",
    "version": 3
   },
   "file_extension": ".py",
   "mimetype": "text/x-python",
   "name": "python",
   "nbconvert_exporter": "python",
   "pygments_lexer": "ipython3",
   "version": "3.12.7"
  }
 },
 "nbformat": 4,
 "nbformat_minor": 2
}
